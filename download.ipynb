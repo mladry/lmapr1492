{
 "cells": [
  {
   "cell_type": "code",
   "execution_count": 1,
   "id": "439ed9bc",
   "metadata": {
    "scrolled": true
   },
   "outputs": [
    {
     "name": "stdout",
     "output_type": "stream",
     "text": [
      "Full Formula (Li3 Sb1)\n",
      "Reduced Formula: Li3Sb\n",
      "abc   :   4.639861   4.639861   4.639861\n",
      "angles:  60.000000  60.000000  60.000000\n",
      "Sites (4)\n",
      "  #  SP       a     b     c    magmom\n",
      "---  ----  ----  ----  ----  --------\n",
      "  0  Li    0.5   0.5   0.5          0\n",
      "  1  Li    0.75  0.75  0.75        -0\n",
      "  2  Li    0.25  0.25  0.25        -0\n",
      "  3  Sb    0     0     0           -0\n"
     ]
    }
   ],
   "source": [
    " \n",
    "from pymatgen.ext.matproj import MPRester\n",
    "\n",
    "\n",
    "with MPRester(\"brNMq9mRKCbXNGk2k\") as m:\n",
    "\n",
    "    # Structure for material id\n",
    "    structure = m.get_structure_by_material_id(\"mp-2074\")\n",
    "    \n",
    "structure.to(filename=\"Li3Sb_mp-2074_symmetrized.cif\")\n",
    "print(structure)"
   ]
  },
  {
   "cell_type": "code",
   "execution_count": null,
   "id": "adf5d23c",
   "metadata": {},
   "outputs": [],
   "source": []
  },
  {
   "cell_type": "code",
   "execution_count": null,
   "id": "8b06612e",
   "metadata": {},
   "outputs": [],
   "source": []
  }
 ],
 "metadata": {
  "kernelspec": {
   "display_name": "Python 3",
   "language": "python",
   "name": "python3"
  },
  "language_info": {
   "codemirror_mode": {
    "name": "ipython",
    "version": 3
   },
   "file_extension": ".py",
   "mimetype": "text/x-python",
   "name": "python",
   "nbconvert_exporter": "python",
   "pygments_lexer": "ipython3",
   "version": "3.6.8"
  }
 },
 "nbformat": 4,
 "nbformat_minor": 5
}
