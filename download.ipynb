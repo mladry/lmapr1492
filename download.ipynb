{
 "cells": [
  {
   "cell_type": "code",
   "execution_count": 8,
   "id": "439ed9bc",
   "metadata": {
    "scrolled": true
   },
   "outputs": [
    {
     "name": "stdout",
     "output_type": "stream",
     "text": [
      "Full Formula (Ti1 Fe2 Si1)\n",
      "Reduced Formula: TiFe2Si\n",
      "abc   :   4.024911   4.024911   4.024911\n",
      "angles:  60.000000  60.000000  60.000000\n",
      "Sites (4)\n",
      "  #  SP       a     b     c    magmom\n",
      "---  ----  ----  ----  ----  --------\n",
      "  0  Ti    0     0     0           -0\n",
      "  1  Fe    0.25  0.25  0.25         0\n",
      "  2  Fe    0.75  0.75  0.75         0\n",
      "  3  Si    0.5   0.5   0.5         -0\n"
     ]
    }
   ],
   "source": [
    "\n",
    "from pymatgen.ext.matproj import MPRester\n",
    "from pymatgen.io.cif import CifWriter\n",
    "from pymatgen.symmetry.analyzer import SpacegroupAnalyzer\n",
    "\n",
    "structure = 0\n",
    "\n",
    "with MPRester('G076mkTglycC4EiF') as m:\n",
    "    id = 'mp-866141'\n",
    "    structure = m.get_structure_by_material_id(id)\n",
    "print(structure)"
   ]
  },
  {
   "cell_type": "code",
   "execution_count": null,
   "id": "adf5d23c",
   "metadata": {},
   "outputs": [],
   "source": []
  },
  {
   "cell_type": "code",
   "execution_count": null,
   "id": "8b06612e",
   "metadata": {},
   "outputs": [],
   "source": []
  }
 ],
 "metadata": {
  "kernelspec": {
   "display_name": "Python 3",
   "language": "python",
   "name": "python3"
  },
  "language_info": {
   "codemirror_mode": {
    "name": "ipython",
    "version": 3
   },
   "file_extension": ".py",
   "mimetype": "text/x-python",
   "name": "python",
   "nbconvert_exporter": "python",
   "pygments_lexer": "ipython3",
   "version": "3.6.8"
  }
 },
 "nbformat": 4,
 "nbformat_minor": 5
}
