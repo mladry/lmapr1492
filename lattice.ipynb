{
 "cells": [
  {
   "cell_type": "code",
   "execution_count": 13,
   "id": "2043ae9a",
   "metadata": {},
   "outputs": [],
   "source": [
    "\n",
    "from pymatgen.core import Lattice, Structure, Molecule\n",
    "from pymatgen.symmetry.analyzer import SpacegroupAnalyzer\n",
    "structure = Structure.from_file(\"Li3Sb_mp-2074_symmetrized.cif\")\n",
    "sf = SpacegroupAnalyzer(structure)\n",
    "\n",
    "\n",
    "\n",
    " \n",
    "\n",
    "\n",
    "\n",
    "\n",
    "\n"
   ]
  },
  {
   "cell_type": "code",
   "execution_count": 7,
   "id": "5097bd1d",
   "metadata": {},
   "outputs": [
    {
     "name": "stdout",
     "output_type": "stream",
     "text": [
      "vecteurs de bases des réseaux direct\n"
     ]
    },
    {
     "data": {
      "text/plain": [
       "Lattice\n",
       "    abc : 6.54492267 6.54492267 6.54492267\n",
       " angles : 90.0 90.0 90.0\n",
       " volume : 280.3583909809857\n",
       "      A : 6.54492267 0.0 4.0076092992412244e-16\n",
       "      B : 1.0525038386009088e-15 6.54492267 4.0076092992412244e-16\n",
       "      C : 0.0 0.0 6.54492267"
      ]
     },
     "execution_count": 7,
     "metadata": {},
     "output_type": "execute_result"
    }
   ],
   "source": [
    "print(\"vecteurs de bases des réseaux direct\")\n",
    "\n",
    "structure.lattice"
   ]
  },
  {
   "cell_type": "code",
   "execution_count": 9,
   "id": "6c21c45d",
   "metadata": {},
   "outputs": [
    {
     "name": "stdout",
     "output_type": "stream",
     "text": [
      "vecteurs de bases des réseaux réciproque\n"
     ]
    },
    {
     "data": {
      "text/plain": [
       "Lattice\n",
       "    abc : 0.960009097736152 0.960009097736152 0.960009097736152\n",
       " angles : 90.00000000000001 90.00000000000001 90.00000000000001\n",
       " volume : 0.8847611536592879\n",
       "      A : 0.960009097736152 -1.543812373965138e-16 0.0\n",
       "      B : 0.0 0.960009097736152 0.0\n",
       "      C : -5.878360343474585e-17 -5.878360343474585e-17 0.960009097736152"
      ]
     },
     "execution_count": 9,
     "metadata": {},
     "output_type": "execute_result"
    }
   ],
   "source": [
    "print(\"vecteurs de bases des réseaux réciproque\")\n",
    "structure.lattice.reciprocal_lattice"
   ]
  },
  {
   "cell_type": "code",
   "execution_count": 10,
   "id": "b53d3d9d",
   "metadata": {},
   "outputs": [
    {
     "name": "stdout",
     "output_type": "stream",
     "text": [
      "type de maille\n"
     ]
    },
    {
     "data": {
      "text/plain": [
       "'cubic'"
      ]
     },
     "execution_count": 10,
     "metadata": {},
     "output_type": "execute_result"
    }
   ],
   "source": [
    "print(\"type de maille\")\n",
    "sf.get_lattice_type()\n"
   ]
  },
  {
   "cell_type": "code",
   "execution_count": 11,
   "id": "76920393",
   "metadata": {},
   "outputs": [
    {
     "name": "stdout",
     "output_type": "stream",
     "text": [
      "système cristallin\n"
     ]
    },
    {
     "data": {
      "text/plain": [
       "'cubic'"
      ]
     },
     "execution_count": 11,
     "metadata": {},
     "output_type": "execute_result"
    }
   ],
   "source": [
    "print(\"système cristallin\")\n",
    "sf.get_crystal_system()"
   ]
  },
  {
   "cell_type": "code",
   "execution_count": 12,
   "id": "5708f5ab",
   "metadata": {},
   "outputs": [
    {
     "name": "stdout",
     "output_type": "stream",
     "text": [
      "groupe ponctuel\n"
     ]
    },
    {
     "data": {
      "text/plain": [
       "'m-3m'"
      ]
     },
     "execution_count": 12,
     "metadata": {},
     "output_type": "execute_result"
    }
   ],
   "source": [
    "print(\"groupe ponctuel\")\n",
    "sf.get_point_group_symbol()\n"
   ]
  },
  {
   "cell_type": "code",
   "execution_count": null,
   "id": "0ab84398",
   "metadata": {},
   "outputs": [],
   "source": []
  }
 ],
 "metadata": {
  "kernelspec": {
   "display_name": "Python 3",
   "language": "python",
   "name": "python3"
  },
  "language_info": {
   "codemirror_mode": {
    "name": "ipython",
    "version": 3
   },
   "file_extension": ".py",
   "mimetype": "text/x-python",
   "name": "python",
   "nbconvert_exporter": "python",
   "pygments_lexer": "ipython3",
   "version": "3.6.8"
  }
 },
 "nbformat": 4,
 "nbformat_minor": 5
}
