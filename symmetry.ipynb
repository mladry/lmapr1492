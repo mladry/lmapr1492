{
 "cells": [
  {
   "cell_type": "code",
   "execution_count": 71,
   "id": "06869f94",
   "metadata": {},
   "outputs": [],
   "source": [
    "from pymatgen.ext.matproj import MPRester\n",
    "from pymatgen.ext.matproj import SpacegroupAnalyzer \n",
    "from pymatgen.core.operations import SymmOp\n",
    "from jupyter_jsmol.pymatgen import quick_view\n",
    "with MPRester (\"brNMq9mRKCbXNGk2k\") as mp:\n",
    "    structure = mp.get_structure_by_material_id(\"mp-2074\")\n",
    "struct = SpacegroupAnalyzer(structure)\n",
    "struct_conv = struct.get_conventional_standard_structure()\n",
    "sym_op = struct_analyze.get_symmetry_operations()"
   ]
  },
  {
   "cell_type": "code",
   "execution_count": 72,
   "id": "aeb147bf",
   "metadata": {},
   "outputs": [
    {
     "name": "stdout",
     "output_type": "stream",
     "text": [
      "maille conventionnelle\n"
     ]
    },
    {
     "data": {
      "application/vnd.jupyter.widget-view+json": {
       "model_id": "fc0fbac723e34921b0ad363088fc4ea3",
       "version_major": 2,
       "version_minor": 0
      },
      "text/plain": [
       "JsmolView(layout=Layout(align_self='stretch', height='400px'))"
      ]
     },
     "metadata": {},
     "output_type": "display_data"
    }
   ],
   "source": [
    "print(\"maille conventionnelle\")\n",
    "view = quick_view(struct_conv)\n",
    "display(view)\n",
    "view.script('draw symop 1 {atomno = 1}')"
   ]
  },
  {
   "cell_type": "code",
   "execution_count": 80,
   "id": "134903dc",
   "metadata": {},
   "outputs": [
    {
     "name": "stdout",
     "output_type": "stream",
     "text": [
      "transformation = inverion\n"
     ]
    },
    {
     "data": {
      "application/vnd.jupyter.widget-view+json": {
       "model_id": "342c46f7294d40e2b6a7ad97fdb12bc3",
       "version_major": 2,
       "version_minor": 0
      },
      "text/plain": [
       "JsmolView(layout=Layout(align_self='stretch', height='400px'))"
      ]
     },
     "metadata": {},
     "output_type": "display_data"
    },
    {
     "name": "stdout",
     "output_type": "stream",
     "text": [
      "position avant transformation de l'atome de Sb [0.0, 0.0, 0.0]\n",
      "position après transformation de l'atome de Sb [0. 0. 0.]\n"
     ]
    }
   ],
   "source": [
    "print(\"transformation = inverion\")\n",
    "view2 = quick_view(struct_conv)\n",
    "display(view2)\n",
    "view2.script('draw symop 2 {atomno=0}')\n",
    "Sb =[0.0000, 0.0000, 0.0000]\n",
    "transfo_1 = sym_op[2].operate(Sb)\n",
    "print(\"position avant transformation de l'atome de Sb\",Sb)\n",
    "print(\"position après transformation de l'atome de Sb\",transfo_1)"
   ]
  },
  {
   "cell_type": "code",
   "execution_count": 81,
   "id": "8312f71b",
   "metadata": {},
   "outputs": [
    {
     "name": "stdout",
     "output_type": "stream",
     "text": [
      "transformation = réflexion\n"
     ]
    },
    {
     "data": {
      "application/vnd.jupyter.widget-view+json": {
       "model_id": "3ec624b6b6cf47d985ab1450b243c82a",
       "version_major": 2,
       "version_minor": 0
      },
      "text/plain": [
       "JsmolView(layout=Layout(align_self='stretch', height='400px'))"
      ]
     },
     "metadata": {},
     "output_type": "display_data"
    },
    {
     "name": "stdout",
     "output_type": "stream",
     "text": [
      "position avant la transformation d'un atome de Li [0.5, 0.0, 0.0]\n",
      "position après la transformation d'un atome de Li [0.  0.5 0. ]\n"
     ]
    }
   ],
   "source": [
    "print(\"transformation = réflexion\")\n",
    "view2 = quick_view(struct_conv)\n",
    "display(view2)\n",
    "view2.script('draw symop 14 {atomno=0}')\n",
    "Li = [0.5000, 0.0000, 0.0000]\n",
    "transfo_2 = sym_op[14].operate(Li)\n",
    "print(\"position avant la transformation d'un atome de Li\",Li)\n",
    "print(\"position après la transformation d'un atome de Li\",transfo_2)"
   ]
  },
  {
   "cell_type": "code",
   "execution_count": 82,
   "id": "7998a0e9",
   "metadata": {},
   "outputs": [
    {
     "name": "stdout",
     "output_type": "stream",
     "text": [
      "transformation = roto-inversion\n"
     ]
    },
    {
     "data": {
      "application/vnd.jupyter.widget-view+json": {
       "model_id": "1fd5224230c84c89b2872c6cccb882e0",
       "version_major": 2,
       "version_minor": 0
      },
      "text/plain": [
       "JsmolView(layout=Layout(align_self='stretch', height='400px'))"
      ]
     },
     "metadata": {},
     "output_type": "display_data"
    },
    {
     "name": "stdout",
     "output_type": "stream",
     "text": [
      "position avant la transformation d'un atome de Li [0.25, 0.25, 0.75]\n",
      "position après la transformation d'un atome de Li [ 0.25 -0.25 -0.75]\n"
     ]
    }
   ],
   "source": [
    "print('transformation = roto-inversion')\n",
    "view2 = quick_view(struct_conv)\n",
    "display(view2)\n",
    "view2.script('draw symop 8 {atomno=2}')\n",
    "Li = [0.2500, 0.2500, 0.7500]\n",
    "transfo_3 = sym_op[8].operate(Li)\n",
    "print(\"position avant la transformation d'un atome de Li\",Li)\n",
    "print(\"position après la transformation d'un atome de Li\",transfo_3)"
   ]
  },
  {
   "cell_type": "code",
   "execution_count": null,
   "id": "caab8f1a",
   "metadata": {},
   "outputs": [],
   "source": []
  }
 ],
 "metadata": {
  "kernelspec": {
   "display_name": "Python 3",
   "language": "python",
   "name": "python3"
  },
  "language_info": {
   "codemirror_mode": {
    "name": "ipython",
    "version": 3
   },
   "file_extension": ".py",
   "mimetype": "text/x-python",
   "name": "python",
   "nbconvert_exporter": "python",
   "pygments_lexer": "ipython3",
   "version": "3.6.8"
  }
 },
 "nbformat": 4,
 "nbformat_minor": 5
}
